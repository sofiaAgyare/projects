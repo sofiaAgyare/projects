{
 "cells": [
  {
   "cell_type": "code",
   "execution_count": 2,
   "id": "0c8a8e5d",
   "metadata": {
    "deletable": false,
    "editable": false
   },
   "outputs": [],
   "source": [
    "# Initialize Otter\n",
    "import otter\n",
    "grader = otter.Notebook(\"project2.ipynb\")"
   ]
  },
  {
   "cell_type": "code",
   "execution_count": 3,
   "id": "8bc43ca9",
   "metadata": {
    "deletable": false,
    "editable": false,
    "tags": []
   },
   "outputs": [],
   "source": [
    "# Run this cell to set up the notebook.\n",
    "\n",
    "# These lines import the Numpy and Datascience modules.\n",
    "import numpy as np\n",
    "from datascience import *\n",
    "\n",
    "# These lines make plots look nice and hide some messy Python warnings.\n",
    "import matplotlib\n",
    "%matplotlib inline\n",
    "import matplotlib.pyplot as plt\n",
    "plt.style.use('fivethirtyeight')\n",
    "import warnings\n",
    "warnings.simplefilter('ignore', FutureWarning)\n",
    "warnings.simplefilter('ignore', np.VisibleDeprecationWarning)\n",
    "\n",
    "# For interactive visualizations\n",
    "from ipywidgets import interact, interactive, fixed, interact_manual\n",
    "import ipywidgets as widgets\n",
    "\n",
    "# Import our table cleaning functions\n",
    "from table_cleaner import * "
   ]
  },
  {
   "cell_type": "markdown",
   "id": "78fcc980-0bf0-4c84-b751-cc03ab5df044",
   "metadata": {},
   "source": [
    "https://violationtracker.goodjobsfirst.org\n",
    "\n",
    "Violation tracker is a database on corporate misconduct. This data set includes environmental violations from companies operating in the oil and gas industries, as reporeted by the federal Environmental Protection Agency."
   ]
  },
  {
   "cell_type": "code",
   "execution_count": 4,
   "id": "7debf48f-6094-4856-9b35-2ed81216966b",
   "metadata": {},
   "outputs": [],
   "source": [
    "from table_cleaner import * "
   ]
  },
  {
   "cell_type": "code",
   "execution_count": 5,
   "id": "e5cabcd4-0fbf-4feb-940b-2eee02356e5c",
   "metadata": {},
   "outputs": [],
   "source": [
    "envi_v = Table().read_table(\"oil_and_gas.csv\")\n",
    "envi_v = envi_v.select(\"Company\", \"Current Parent Company\", \"Penalty Amount\", \"Penalty Year\", \"Penalty Date\", \"Description\", \"Current Parent HQ Country\",\"Info Source\", \"Civil/Criminal\")    "
   ]
  },
  {
   "cell_type": "code",
   "execution_count": 6,
   "id": "e7d9aaeb-6572-4474-853c-b5bd0072d515",
   "metadata": {},
   "outputs": [
    {
     "name": "stdout",
     "output_type": "stream",
     "text": [
      "Removed 0 bad row(s) for column Company\n",
      "Removed 0 bad row(s) for column Current Parent Company\n",
      "Removed 0 bad row(s) for column Penalty Amount\n",
      "Removed 0 bad row(s) for column Penalty Year\n",
      "Removed 0 bad row(s) for column Penalty Date\n",
      "Removed 0 bad row(s) for column Current Parent HQ Country\n",
      "Removed 0 bad row(s) for column Info Source\n",
      "Removed 0 bad row(s) for column Civil/Criminal\n",
      "\n",
      "Removed a total of 0 rows.\n"
     ]
    },
    {
     "data": {
      "text/html": [
       "<table border=\"1\" class=\"dataframe\">\n",
       "    <thead>\n",
       "        <tr>\n",
       "            <th>Company</th> <th>Current Parent Company</th> <th>Penalty Amount</th> <th>Penalty Year</th> <th>Penalty Date</th> <th>Description</th> <th>Current Parent HQ Country</th> <th>Info Source</th> <th>Civil/Criminal</th>\n",
       "        </tr>\n",
       "    </thead>\n",
       "    <tbody>\n",
       "        <tr>\n",
       "            <td>Anadarko Petroleum Co.         </td> <td>Occidental Petroleum  </td> <td>9050000       </td> <td>2009        </td> <td>20090507    </td> <td>Anadarko Petroleum Co. and two related oil production co ...</td> <td>USA                      </td> <td>https://www.justice.gov/opa/pr/anadarko-petroleum-co-agr ...</td> <td>civil         </td>\n",
       "        </tr>\n",
       "        <tr>\n",
       "            <td>Anadarko Petroleum Corp.       </td> <td>Occidental Petroleum  </td> <td>5150000000    </td> <td>2015        </td> <td>20150123    </td> <td>A settlement reached with Anadarko Petroleum Corp.and Ke ...</td> <td>USA                      </td> <td>http://www.justice.gov/opa/pr/historic-515-billion-envir ...</td> <td>civil         </td>\n",
       "        </tr>\n",
       "        <tr>\n",
       "            <td>Atlantic Richfield             </td> <td>BP                    </td> <td>21000000      </td> <td>2013        </td> <td>20130911    </td> <td>A past cost settlement with Atlantic Richfield to reimbu ...</td> <td>United Kingdom           </td> <td>http://www2.epa.gov/enforcement/case-summary-atlantic-ri ...</td> <td>civil         </td>\n",
       "        </tr>\n",
       "        <tr>\n",
       "            <td>BP                             </td> <td>BP                    </td> <td>660000000     </td> <td>2001        </td> <td>20010118    </td> <td>To resolve a Clean Air Act case involving eight refineri ...</td> <td>United Kingdom           </td> <td>https://www.justice.gov/archive/opa/pr/2001/January/028e ...</td> <td>civil         </td>\n",
       "        </tr>\n",
       "        <tr>\n",
       "            <td>BP America                     </td> <td>BP                    </td> <td>426500        </td> <td>2011        </td> <td>20111129    </td> <td>The U.S. Environmental Protection Agency announced that  ...</td> <td>United Kingdom           </td> <td>http://www2.epa.gov/enforcement/bp-financial-assurance-s ...</td> <td>civil         </td>\n",
       "        </tr>\n",
       "        <tr>\n",
       "            <td>BP Exploration (Alaska) Inc.   </td> <td>BP                    </td> <td>22500000      </td> <td>2000        </td> <td>20000201    </td> <td>BP Exploration (Alaska) Inc. was sentenced for failing t ...</td> <td>United Kingdom           </td> <td>https://www.justice.gov/archive/opa/pr/2000/February/047 ...</td> <td>criminal      </td>\n",
       "        </tr>\n",
       "        <tr>\n",
       "            <td>BP North America Inc.          </td> <td>BP                    </td> <td>408000000     </td> <td>2012        </td> <td>20120523    </td> <td>The Department of Justice and the U.S. Environmental Pro ...</td> <td>United Kingdom           </td> <td>http://www.justice.gov/opa/pr/bp-agrees-add-more-400-mil ...</td> <td>civil         </td>\n",
       "        </tr>\n",
       "        <tr>\n",
       "            <td>BP Products North America, Inc.</td> <td>BP                    </td> <td>210000        </td> <td>2012        </td> <td>20120927    </td> <td>BP Products North America, Inc. will pay a $210,000 pena ...</td> <td>United Kingdom           </td> <td>http://www.justice.gov/opa/pr/bp-products-north-america- ...</td> <td>civil         </td>\n",
       "        </tr>\n",
       "        <tr>\n",
       "            <td>British Petroleum              </td> <td>BP                    </td> <td>20000000      </td> <td>2007        </td> <td>20071025    </td> <td>BP agreed to pay $12 million in criminal fines, $4 milli ...</td> <td>United Kingdom           </td> <td>https://www.justice.gov/archive/opa/pr/2007/October/07_a ...</td> <td>criminal      </td>\n",
       "        </tr>\n",
       "        <tr>\n",
       "            <td>Chesapeake Appalachia LLC      </td> <td>Chesapeake Energy     </td> <td>9700000       </td> <td>2013        </td> <td>20131219    </td> <td>The U.S. Environmental Protection Agency and the Departm ...</td> <td>USA                      </td> <td>http://www2.epa.gov/enforcement/chesapeake-appalachia-ll ...</td> <td>civil         </td>\n",
       "        </tr>\n",
       "    </tbody>\n",
       "</table>\n",
       "<p>... (992 rows omitted)</p>"
      ],
      "text/plain": [
       "Company                         | Current Parent Company | Penalty Amount | Penalty Year | Penalty Date | Description                                                  | Current Parent HQ Country | Info Source                                                  | Civil/Criminal\n",
       "Anadarko Petroleum Co.          | Occidental Petroleum   | 9050000        | 2009         | 20090507     | Anadarko Petroleum Co. and two related oil production co ... | USA                       | https://www.justice.gov/opa/pr/anadarko-petroleum-co-agr ... | civil\n",
       "Anadarko Petroleum Corp.        | Occidental Petroleum   | 5150000000     | 2015         | 20150123     | A settlement reached with Anadarko Petroleum Corp.and Ke ... | USA                       | http://www.justice.gov/opa/pr/historic-515-billion-envir ... | civil\n",
       "Atlantic Richfield              | BP                     | 21000000       | 2013         | 20130911     | A past cost settlement with Atlantic Richfield to reimbu ... | United Kingdom            | http://www2.epa.gov/enforcement/case-summary-atlantic-ri ... | civil\n",
       "BP                              | BP                     | 660000000      | 2001         | 20010118     | To resolve a Clean Air Act case involving eight refineri ... | United Kingdom            | https://www.justice.gov/archive/opa/pr/2001/January/028e ... | civil\n",
       "BP America                      | BP                     | 426500         | 2011         | 20111129     | The U.S. Environmental Protection Agency announced that  ... | United Kingdom            | http://www2.epa.gov/enforcement/bp-financial-assurance-s ... | civil\n",
       "BP Exploration (Alaska) Inc.    | BP                     | 22500000       | 2000         | 20000201     | BP Exploration (Alaska) Inc. was sentenced for failing t ... | United Kingdom            | https://www.justice.gov/archive/opa/pr/2000/February/047 ... | criminal\n",
       "BP North America Inc.           | BP                     | 408000000      | 2012         | 20120523     | The Department of Justice and the U.S. Environmental Pro ... | United Kingdom            | http://www.justice.gov/opa/pr/bp-agrees-add-more-400-mil ... | civil\n",
       "BP Products North America, Inc. | BP                     | 210000         | 2012         | 20120927     | BP Products North America, Inc. will pay a $210,000 pena ... | United Kingdom            | http://www.justice.gov/opa/pr/bp-products-north-america- ... | civil\n",
       "British Petroleum               | BP                     | 20000000       | 2007         | 20071025     | BP agreed to pay $12 million in criminal fines, $4 milli ... | United Kingdom            | https://www.justice.gov/archive/opa/pr/2007/October/07_a ... | criminal\n",
       "Chesapeake Appalachia LLC       | Chesapeake Energy      | 9700000        | 2013         | 20131219     | The U.S. Environmental Protection Agency and the Departm ... | USA                       | http://www2.epa.gov/enforcement/chesapeake-appalachia-ll ... | civil\n",
       "... (992 rows omitted)"
      ]
     },
     "execution_count": 6,
     "metadata": {},
     "output_type": "execute_result"
    }
   ],
   "source": [
    "envi = valid_rows_for_column(envi_v, \"Company\", str)\n",
    "envi= valid_rows_for_column(envi, \"Current Parent Company\", str)\n",
    "envi = valid_rows_for_column(envi, \"Penalty Amount\", int)\n",
    "envi = valid_rows_for_column(envi, \"Penalty Year\", int)\n",
    "envi = valid_rows_for_column(envi, \"Penalty Date\", int)\n",
    "envi = valid_rows_for_column(envi, \"Current Parent HQ Country\", str)\n",
    "envi = valid_rows_for_column(envi,\"Info Source\", str)   \n",
    "envi = valid_rows_for_column(envi, \"Civil/Criminal\", str)\n",
    "# Didn't include the Description column since it includes ints and strings,\n",
    "# It won't be used in the data analysis, but includes interesting information. \n",
    "rows_removed = envi_v.num_rows - envi.num_rows\n",
    "print()\n",
    "print('Removed a total of', rows_removed, 'rows.')\n",
    "envi"
   ]
  },
  {
   "cell_type": "code",
   "execution_count": 7,
   "id": "82b4693b-b7f8-46dc-a05d-2cef835646d1",
   "metadata": {},
   "outputs": [
    {
     "name": "stdout",
     "output_type": "stream",
     "text": [
      "Number of rows: 1002\n"
     ]
    }
   ],
   "source": [
    "print(\"Number of rows:\", envi.num_rows)"
   ]
  },
  {
   "cell_type": "code",
   "execution_count": 8,
   "id": "16b24086-86f4-4dce-a7a1-df06d679d76c",
   "metadata": {},
   "outputs": [
    {
     "data": {
      "text/plain": [
       "array([2, 8, 4, ..., 1, 9, 2])"
      ]
     },
     "execution_count": 8,
     "metadata": {},
     "output_type": "execute_result"
    }
   ],
   "source": [
    "envi = envi.sort(\"Penalty Year\")\n",
    "pen_date = envi.apply(str, \"Penalty Date\")\n",
    "\n",
    "def get_month(dates):\n",
    "    month = make_array()\n",
    "    for i in dates:\n",
    "        new_month = i[4:6]\n",
    "        month = np.append(month, new_month)\n",
    "    return month\n",
    "month = get_month(pen_date)\n",
    "envi = envi.with_columns(\"Month\", month)\n",
    "month = envi.apply(int, \"Month\")\n",
    "envi = envi.with_columns(\"Penalty Month\", month).drop(\"Month\")\n",
    "month"
   ]
  },
  {
   "cell_type": "code",
   "execution_count": 9,
   "id": "354921d2-bfa2-47ba-8141-51c9eb54b56e",
   "metadata": {},
   "outputs": [
    {
     "data": {
      "text/plain": [
       "array([ 1, 23, 21, ..., 28,  1,  3])"
      ]
     },
     "execution_count": 9,
     "metadata": {},
     "output_type": "execute_result"
    }
   ],
   "source": [
    "def get_day(dates):\n",
    "    day = make_array()\n",
    "    for i in dates:\n",
    "        new_day = i[6:8]\n",
    "        day = np.append(day, new_day)\n",
    "    return day\n",
    "day = get_day(pen_date)\n",
    "envi = envi.with_columns(\"Day\", day)\n",
    "day = envi.apply(int, \"Day\")\n",
    "envi = envi.with_columns(\"Penalty Day\", day).drop(\"Day\")\n",
    "day"
   ]
  },
  {
   "cell_type": "code",
   "execution_count": 10,
   "id": "123e5371-af37-4995-9100-3dd49bc7e63b",
   "metadata": {},
   "outputs": [
    {
     "data": {
      "text/html": [
       "<table border=\"1\" class=\"dataframe\">\n",
       "    <thead>\n",
       "        <tr>\n",
       "            <th>Company</th> <th>Current Parent Company</th> <th>Penalty Amount</th> <th>Penalty Year</th> <th>Penalty Date</th> <th>Description</th> <th>Current Parent HQ Country</th> <th>Info Source</th> <th>Civil/Criminal</th> <th>Penalty Month</th> <th>Penalty Day</th>\n",
       "        </tr>\n",
       "    </thead>\n",
       "    <tbody>\n",
       "        <tr>\n",
       "            <td>CONOCO, INC.                         </td> <td>Phillips 66           </td> <td>21553         </td> <td>2000        </td> <td>20000110    </td> <td>nan                                                         </td> <td>USA                      </td> <td>Extracted from a download of the EPA's Enforcement and C ...</td> <td>civil         </td> <td>1            </td> <td>10         </td>\n",
       "        </tr>\n",
       "        <tr>\n",
       "            <td>BP Exploration (Alaska) Inc.         </td> <td>BP                    </td> <td>22500000      </td> <td>2000        </td> <td>20000201    </td> <td>BP Exploration (Alaska) Inc. was sentenced for failing t ...</td> <td>United Kingdom           </td> <td>https://www.justice.gov/archive/opa/pr/2000/February/047 ...</td> <td>criminal      </td> <td>2            </td> <td>1          </td>\n",
       "        </tr>\n",
       "        <tr>\n",
       "            <td>IRVING OIL CORP                      </td> <td>Irving Oil            </td> <td>5000          </td> <td>2000        </td> <td>20000208    </td> <td>nan                                                         </td> <td>Canada                   </td> <td>Extracted from a download of the EPA's Enforcement and C ...</td> <td>civil         </td> <td>2            </td> <td>8          </td>\n",
       "        </tr>\n",
       "        <tr>\n",
       "            <td>ULTRAMAR DIAMOND SHAMROCK            </td> <td>Valero Energy         </td> <td>33751         </td> <td>2000        </td> <td>20000208    </td> <td>nan                                                         </td> <td>USA                      </td> <td>Extracted from a download of the EPA's Enforcement and C ...</td> <td>civil         </td> <td>2            </td> <td>8          </td>\n",
       "        </tr>\n",
       "        <tr>\n",
       "            <td>CHEVRON U.S.A. PRODUCTION COMPANY    </td> <td>Chevron               </td> <td>5000          </td> <td>2000        </td> <td>20000229    </td> <td>nan                                                         </td> <td>USA                      </td> <td>Extracted from a download of the EPA's Enforcement and C ...</td> <td>civil         </td> <td>2            </td> <td>29         </td>\n",
       "        </tr>\n",
       "        <tr>\n",
       "            <td>BP EXPLORATION, INC.                 </td> <td>BP                    </td> <td>34650         </td> <td>2000        </td> <td>20000315    </td> <td>nan                                                         </td> <td>United Kingdom           </td> <td>Extracted from a download of the EPA's Enforcement and C ...</td> <td>civil         </td> <td>3            </td> <td>15         </td>\n",
       "        </tr>\n",
       "        <tr>\n",
       "            <td>ARCO ALASKA, INC.                    </td> <td>BP                    </td> <td>31500         </td> <td>2000        </td> <td>20000315    </td> <td>nan                                                         </td> <td>United Kingdom           </td> <td>Extracted from a download of the EPA's Enforcement and C ...</td> <td>civil         </td> <td>3            </td> <td>15         </td>\n",
       "        </tr>\n",
       "        <tr>\n",
       "            <td>TPI Petroleum Inc.                   </td> <td>Valero Energy         </td> <td>13900000      </td> <td>2000        </td> <td>20000421    </td> <td>TPI Petroleum Inc. agreed to pay a $4 million civil pena ...</td> <td>USA                      </td> <td>https://www.justice.gov/archive/opa/pr/2000/April/222enr ...</td> <td>civil         </td> <td>4            </td> <td>21         </td>\n",
       "        </tr>\n",
       "        <tr>\n",
       "            <td>PARAMOUNT PETROLEUM CORPORATION OF AZ</td> <td>Delek                 </td> <td>54000         </td> <td>2000        </td> <td>20000427    </td> <td>nan                                                         </td> <td>Israel                   </td> <td>Extracted from a download of the EPA's Enforcement and C ...</td> <td>civil         </td> <td>4            </td> <td>27         </td>\n",
       "        </tr>\n",
       "        <tr>\n",
       "            <td>EXXON MOBIL PIPELINE COMPANY         </td> <td>Exxon Mobil           </td> <td>8000          </td> <td>2000        </td> <td>20000511    </td> <td>nan                                                         </td> <td>USA                      </td> <td>Extracted from a download of the EPA's Enforcement and C ...</td> <td>civil         </td> <td>5            </td> <td>11         </td>\n",
       "        </tr>\n",
       "    </tbody>\n",
       "</table>\n",
       "<p>... (992 rows omitted)</p>"
      ],
      "text/plain": [
       "Company                               | Current Parent Company | Penalty Amount | Penalty Year | Penalty Date | Description                                                  | Current Parent HQ Country | Info Source                                                  | Civil/Criminal | Penalty Month | Penalty Day\n",
       "CONOCO, INC.                          | Phillips 66            | 21553          | 2000         | 20000110     | nan                                                          | USA                       | Extracted from a download of the EPA's Enforcement and C ... | civil          | 1             | 10\n",
       "BP Exploration (Alaska) Inc.          | BP                     | 22500000       | 2000         | 20000201     | BP Exploration (Alaska) Inc. was sentenced for failing t ... | United Kingdom            | https://www.justice.gov/archive/opa/pr/2000/February/047 ... | criminal       | 2             | 1\n",
       "IRVING OIL CORP                       | Irving Oil             | 5000           | 2000         | 20000208     | nan                                                          | Canada                    | Extracted from a download of the EPA's Enforcement and C ... | civil          | 2             | 8\n",
       "ULTRAMAR DIAMOND SHAMROCK             | Valero Energy          | 33751          | 2000         | 20000208     | nan                                                          | USA                       | Extracted from a download of the EPA's Enforcement and C ... | civil          | 2             | 8\n",
       "CHEVRON U.S.A. PRODUCTION COMPANY     | Chevron                | 5000           | 2000         | 20000229     | nan                                                          | USA                       | Extracted from a download of the EPA's Enforcement and C ... | civil          | 2             | 29\n",
       "BP EXPLORATION, INC.                  | BP                     | 34650          | 2000         | 20000315     | nan                                                          | United Kingdom            | Extracted from a download of the EPA's Enforcement and C ... | civil          | 3             | 15\n",
       "ARCO ALASKA, INC.                     | BP                     | 31500          | 2000         | 20000315     | nan                                                          | United Kingdom            | Extracted from a download of the EPA's Enforcement and C ... | civil          | 3             | 15\n",
       "TPI Petroleum Inc.                    | Valero Energy          | 13900000       | 2000         | 20000421     | TPI Petroleum Inc. agreed to pay a $4 million civil pena ... | USA                       | https://www.justice.gov/archive/opa/pr/2000/April/222enr ... | civil          | 4             | 21\n",
       "PARAMOUNT PETROLEUM CORPORATION OF AZ | Delek                  | 54000          | 2000         | 20000427     | nan                                                          | Israel                    | Extracted from a download of the EPA's Enforcement and C ... | civil          | 4             | 27\n",
       "EXXON MOBIL PIPELINE COMPANY          | Exxon Mobil            | 8000           | 2000         | 20000511     | nan                                                          | USA                       | Extracted from a download of the EPA's Enforcement and C ... | civil          | 5             | 11\n",
       "... (992 rows omitted)"
      ]
     },
     "execution_count": 10,
     "metadata": {},
     "output_type": "execute_result"
    }
   ],
   "source": [
    "envi = envi.sort(\"Penalty Day\")\n",
    "envi = envi.sort(\"Penalty Month\")\n",
    "envi = envi.sort(\"Penalty Year\")\n",
    "envi"
   ]
  },
  {
   "cell_type": "code",
   "execution_count": 11,
   "id": "5d4ced42-e3ec-49c6-8182-1e1873826e80",
   "metadata": {},
   "outputs": [
    {
     "name": "stdout",
     "output_type": "stream",
     "text": [
      "Earliest penalty: [2000]/[1]/[10]\n",
      "Latest penalty: [2022]/[9]/[1]\n"
     ]
    }
   ],
   "source": [
    "def get_date(row):\n",
    "    yr = str(row.column(\"Penalty Year\"))\n",
    "    mo = str(row.column(\"Penalty Month\"))\n",
    "    da = str(row.column(\"Penalty Day\"))\n",
    "    return yr + \"/\" + mo + \"/\" + da\n",
    "earliest_penalty = get_date(envi.take(0))\n",
    "latest_penalty = get_date(envi.take(1001))\n",
    "print(\"Earliest penalty:\", earliest_penalty)\n",
    "print(\"Latest penalty:\", latest_penalty)"
   ]
  },
  {
   "cell_type": "code",
   "execution_count": 12,
   "id": "f70c68ad-5c91-42a3-9c50-8e62d70a3a44",
   "metadata": {},
   "outputs": [
    {
     "data": {
      "text/html": [
       "<table border=\"1\" class=\"dataframe\">\n",
       "    <thead>\n",
       "        <tr>\n",
       "            <th>Penalty Year</th> <th>count</th>\n",
       "        </tr>\n",
       "    </thead>\n",
       "    <tbody>\n",
       "        <tr>\n",
       "            <td>2015        </td> <td>72   </td>\n",
       "        </tr>\n",
       "        <tr>\n",
       "            <td>2012        </td> <td>71   </td>\n",
       "        </tr>\n",
       "        <tr>\n",
       "            <td>2013        </td> <td>64   </td>\n",
       "        </tr>\n",
       "        <tr>\n",
       "            <td>2005        </td> <td>62   </td>\n",
       "        </tr>\n",
       "        <tr>\n",
       "            <td>2014        </td> <td>59   </td>\n",
       "        </tr>\n",
       "        <tr>\n",
       "            <td>2011        </td> <td>57   </td>\n",
       "        </tr>\n",
       "        <tr>\n",
       "            <td>2001        </td> <td>54   </td>\n",
       "        </tr>\n",
       "        <tr>\n",
       "            <td>2002        </td> <td>50   </td>\n",
       "        </tr>\n",
       "        <tr>\n",
       "            <td>2019        </td> <td>48   </td>\n",
       "        </tr>\n",
       "        <tr>\n",
       "            <td>2016        </td> <td>45   </td>\n",
       "        </tr>\n",
       "    </tbody>\n",
       "</table>\n",
       "<p>... (13 rows omitted)</p>"
      ],
      "text/plain": [
       "Penalty Year | count\n",
       "2015         | 72\n",
       "2012         | 71\n",
       "2013         | 64\n",
       "2005         | 62\n",
       "2014         | 59\n",
       "2011         | 57\n",
       "2001         | 54\n",
       "2002         | 50\n",
       "2019         | 48\n",
       "2016         | 45\n",
       "... (13 rows omitted)"
      ]
     },
     "execution_count": 12,
     "metadata": {},
     "output_type": "execute_result"
    }
   ],
   "source": [
    "violations_per_year = envi.group(\"Penalty Year\")\n",
    "violations_per_year = violations_per_year.sort(\"count\", descending = True)\n",
    "violations_per_year"
   ]
  },
  {
   "cell_type": "markdown",
   "id": "9f84685a-0cc8-431a-9e69-9efaaf1e9699",
   "metadata": {},
   "source": [
    "There are 1002 different violations described by the data, (as there's 1002 rows). Spanning vioaltions from 2000 to 2022.\n",
    "The earliest violation recorded on the data occured on 10/1/2000 by CONOCO inc.\n",
    "The latest violation on the data occured on 9/1/2022 by Shell Chemicals.\n",
    "The most violations are recorded in 2015 with a total of 72. \n",
    "The least violations are recorded in 2022 with a total of 10. (This could be due to the fact that 2022 still has not ended, so as much data for this year has not been gathered. Excluding 2022, the least violations were recorded in 2020.\n"
   ]
  },
  {
   "cell_type": "code",
   "execution_count": 13,
   "id": "aa5e5742-27df-40f4-a290-3cf9f40ef3c7",
   "metadata": {},
   "outputs": [
    {
     "data": {
      "text/html": [
       "<table border=\"1\" class=\"dataframe\">\n",
       "    <thead>\n",
       "        <tr>\n",
       "            <th>Company</th> <th>Current Parent Company</th> <th>Penalty Amount</th> <th>Penalty Year</th> <th>Penalty Date</th> <th>Description</th> <th>Current Parent HQ Country</th> <th>Info Source</th> <th>Civil/Criminal</th> <th>Penalty Month</th> <th>Penalty Day</th>\n",
       "        </tr>\n",
       "    </thead>\n",
       "    <tbody>\n",
       "        <tr>\n",
       "            <td>CONOCO, INC.</td> <td>Phillips 66           </td> <td>21553         </td> <td>2000        </td> <td>20000110    </td> <td>nan        </td> <td>USA                      </td> <td>Extracted from a download of the EPA's Enforcement and C ...</td> <td>civil         </td> <td>1            </td> <td>10         </td>\n",
       "        </tr>\n",
       "        <tr>\n",
       "            <td>CONOCO, INC.</td> <td>ConocoPhillips        </td> <td>138775        </td> <td>2002        </td> <td>20020219    </td> <td>nan        </td> <td>USA                      </td> <td>Extracted from a download of the EPA's Enforcement and C ...</td> <td>civil         </td> <td>2            </td> <td>19         </td>\n",
       "        </tr>\n",
       "        <tr>\n",
       "            <td>CONOCO, INC.</td> <td>Phillips 66           </td> <td>119000        </td> <td>2002        </td> <td>20020311    </td> <td>nan        </td> <td>USA                      </td> <td>Extracted from a download of the EPA's Enforcement and C ...</td> <td>civil         </td> <td>3            </td> <td>11         </td>\n",
       "        </tr>\n",
       "        <tr>\n",
       "            <td>CONOCO, INC.</td> <td>Phillips 66           </td> <td>3651000       </td> <td>2002        </td> <td>20020430    </td> <td>nan        </td> <td>USA                      </td> <td>Extracted from a download of the EPA's Enforcement and C ...</td> <td>civil         </td> <td>4            </td> <td>30         </td>\n",
       "        </tr>\n",
       "    </tbody>\n",
       "</table>"
      ],
      "text/plain": [
       "Company      | Current Parent Company | Penalty Amount | Penalty Year | Penalty Date | Description | Current Parent HQ Country | Info Source                                                  | Civil/Criminal | Penalty Month | Penalty Day\n",
       "CONOCO, INC. | Phillips 66            | 21553          | 2000         | 20000110     | nan         | USA                       | Extracted from a download of the EPA's Enforcement and C ... | civil          | 1             | 10\n",
       "CONOCO, INC. | ConocoPhillips         | 138775         | 2002         | 20020219     | nan         | USA                       | Extracted from a download of the EPA's Enforcement and C ... | civil          | 2             | 19\n",
       "CONOCO, INC. | Phillips 66            | 119000         | 2002         | 20020311     | nan         | USA                       | Extracted from a download of the EPA's Enforcement and C ... | civil          | 3             | 11\n",
       "CONOCO, INC. | Phillips 66            | 3651000        | 2002         | 20020430     | nan         | USA                       | Extracted from a download of the EPA's Enforcement and C ... | civil          | 4             | 30"
      ]
     },
     "execution_count": 13,
     "metadata": {},
     "output_type": "execute_result"
    }
   ],
   "source": [
    "#function will return the violations for a certain company\n",
    "def get_violations(company):\n",
    "    tbl = envi.where(\"Company\", are.equal_to(company))\n",
    "    return tbl\n",
    "\n",
    "#function will return the violations for a certain parent company\n",
    "def get_violations_parent(parent):\n",
    "    tbl = envi.where(\"Current Parent Company\", are.equal_to(parent))\n",
    "    return tbl\n",
    "get_violations(\"CONOCO, INC.\")"
   ]
  },
  {
   "cell_type": "code",
   "execution_count": 14,
   "id": "247985b4-3d83-493c-b3ac-dbe1e1071fee",
   "metadata": {},
   "outputs": [],
   "source": [
    "#count the number of violations for all companies and their parent companies\n",
    "\n",
    "vls = make_array()\n",
    "for i in envi.column(\"Company\"):\n",
    "    vls = np.append(vls, (get_violations(i).num_rows))\n",
    "\n",
    "bls = make_array()\n",
    "for i in envi.column(\"Current Parent Company\"):\n",
    "    bls = np.append(bls, (get_violations_parent(i).num_rows))"
   ]
  },
  {
   "cell_type": "code",
   "execution_count": 15,
   "id": "d1460c4e-b34a-4285-93b6-187c6d62e090",
   "metadata": {},
   "outputs": [
    {
     "data": {
      "text/html": [
       "<table border=\"1\" class=\"dataframe\">\n",
       "    <thead>\n",
       "        <tr>\n",
       "            <th>Company</th> <th>Number of Violations</th> <th>Current Parent Company</th> <th>Parent's Violations</th>\n",
       "        </tr>\n",
       "    </thead>\n",
       "    <tbody>\n",
       "        <tr>\n",
       "            <td>CONOCO, INC.                         </td> <td>4                   </td> <td>Phillips 66           </td> <td>38                 </td>\n",
       "        </tr>\n",
       "        <tr>\n",
       "            <td>BP Exploration (Alaska) Inc.         </td> <td>1                   </td> <td>BP                    </td> <td>63                 </td>\n",
       "        </tr>\n",
       "        <tr>\n",
       "            <td>IRVING OIL CORP                      </td> <td>2                   </td> <td>Irving Oil            </td> <td>7                  </td>\n",
       "        </tr>\n",
       "        <tr>\n",
       "            <td>ULTRAMAR DIAMOND SHAMROCK            </td> <td>2                   </td> <td>Valero Energy         </td> <td>47                 </td>\n",
       "        </tr>\n",
       "        <tr>\n",
       "            <td>CHEVRON U.S.A. PRODUCTION COMPANY    </td> <td>1                   </td> <td>Chevron               </td> <td>81                 </td>\n",
       "        </tr>\n",
       "        <tr>\n",
       "            <td>BP EXPLORATION, INC.                 </td> <td>1                   </td> <td>BP                    </td> <td>63                 </td>\n",
       "        </tr>\n",
       "        <tr>\n",
       "            <td>ARCO ALASKA, INC.                    </td> <td>1                   </td> <td>BP                    </td> <td>63                 </td>\n",
       "        </tr>\n",
       "        <tr>\n",
       "            <td>TPI Petroleum Inc.                   </td> <td>1                   </td> <td>Valero Energy         </td> <td>47                 </td>\n",
       "        </tr>\n",
       "        <tr>\n",
       "            <td>PARAMOUNT PETROLEUM CORPORATION OF AZ</td> <td>1                   </td> <td>Delek                 </td> <td>21                 </td>\n",
       "        </tr>\n",
       "        <tr>\n",
       "            <td>EXXON MOBIL PIPELINE COMPANY         </td> <td>1                   </td> <td>Exxon Mobil           </td> <td>66                 </td>\n",
       "        </tr>\n",
       "    </tbody>\n",
       "</table>\n",
       "<p>... (992 rows omitted)</p>"
      ],
      "text/plain": [
       "Company                               | Number of Violations | Current Parent Company | Parent's Violations\n",
       "CONOCO, INC.                          | 4                    | Phillips 66            | 38\n",
       "BP Exploration (Alaska) Inc.          | 1                    | BP                     | 63\n",
       "IRVING OIL CORP                       | 2                    | Irving Oil             | 7\n",
       "ULTRAMAR DIAMOND SHAMROCK             | 2                    | Valero Energy          | 47\n",
       "CHEVRON U.S.A. PRODUCTION COMPANY     | 1                    | Chevron                | 81\n",
       "BP EXPLORATION, INC.                  | 1                    | BP                     | 63\n",
       "ARCO ALASKA, INC.                     | 1                    | BP                     | 63\n",
       "TPI Petroleum Inc.                    | 1                    | Valero Energy          | 47\n",
       "PARAMOUNT PETROLEUM CORPORATION OF AZ | 1                    | Delek                  | 21\n",
       "EXXON MOBIL PIPELINE COMPANY          | 1                    | Exxon Mobil            | 66\n",
       "... (992 rows omitted)"
      ]
     },
     "execution_count": 15,
     "metadata": {},
     "output_type": "execute_result"
    }
   ],
   "source": [
    "#table of the number of violations for all companies and their parents\n",
    "envi_violations = envi.with_columns(\"Number of Violations\", vls, \"Parent's Violations\", bls)\n",
    "\n",
    "envi_violations = envi_violations.select(\"Company\", \"Number of Violations\", \"Current Parent Company\", \"Parent's Violations\")\n",
    "envi_violations\n",
    "    "
   ]
  },
  {
   "cell_type": "code",
   "execution_count": 17,
   "id": "e59e2cf7-269e-493b-92be-dc3e7cb801e5",
   "metadata": {},
   "outputs": [
    {
     "data": {
      "text/html": [
       "<table border=\"1\" class=\"dataframe\">\n",
       "    <thead>\n",
       "        <tr>\n",
       "            <th>Company</th> <th>Number of Violations</th> <th>Current Parent Company</th> <th>Parent's Violations</th> <th>First Violation Penalty Amount</th> <th>Number of Additional Violations</th>\n",
       "        </tr>\n",
       "    </thead>\n",
       "    <tbody>\n",
       "        <tr>\n",
       "            <td>CONOCO, INC.                         </td> <td>4                   </td> <td>Phillips 66           </td> <td>38                 </td> <td>21553                         </td> <td>3                              </td>\n",
       "        </tr>\n",
       "        <tr>\n",
       "            <td>BP Exploration (Alaska) Inc.         </td> <td>1                   </td> <td>BP                    </td> <td>63                 </td> <td>2.25e+07                      </td> <td>0                              </td>\n",
       "        </tr>\n",
       "        <tr>\n",
       "            <td>IRVING OIL CORP                      </td> <td>2                   </td> <td>Irving Oil            </td> <td>7                  </td> <td>5000                          </td> <td>1                              </td>\n",
       "        </tr>\n",
       "        <tr>\n",
       "            <td>ULTRAMAR DIAMOND SHAMROCK            </td> <td>2                   </td> <td>Valero Energy         </td> <td>47                 </td> <td>33751                         </td> <td>1                              </td>\n",
       "        </tr>\n",
       "        <tr>\n",
       "            <td>CHEVRON U.S.A. PRODUCTION COMPANY    </td> <td>1                   </td> <td>Chevron               </td> <td>81                 </td> <td>5000                          </td> <td>0                              </td>\n",
       "        </tr>\n",
       "        <tr>\n",
       "            <td>BP EXPLORATION, INC.                 </td> <td>1                   </td> <td>BP                    </td> <td>63                 </td> <td>34650                         </td> <td>0                              </td>\n",
       "        </tr>\n",
       "        <tr>\n",
       "            <td>ARCO ALASKA, INC.                    </td> <td>1                   </td> <td>BP                    </td> <td>63                 </td> <td>31500                         </td> <td>0                              </td>\n",
       "        </tr>\n",
       "        <tr>\n",
       "            <td>TPI Petroleum Inc.                   </td> <td>1                   </td> <td>Valero Energy         </td> <td>47                 </td> <td>1.39e+07                      </td> <td>0                              </td>\n",
       "        </tr>\n",
       "        <tr>\n",
       "            <td>PARAMOUNT PETROLEUM CORPORATION OF AZ</td> <td>1                   </td> <td>Delek                 </td> <td>21                 </td> <td>54000                         </td> <td>0                              </td>\n",
       "        </tr>\n",
       "        <tr>\n",
       "            <td>EXXON MOBIL PIPELINE COMPANY         </td> <td>1                   </td> <td>Exxon Mobil           </td> <td>66                 </td> <td>8000                          </td> <td>0                              </td>\n",
       "        </tr>\n",
       "    </tbody>\n",
       "</table>\n",
       "<p>... (992 rows omitted)</p>"
      ],
      "text/plain": [
       "Company                               | Number of Violations | Current Parent Company | Parent's Violations | First Violation Penalty Amount | Number of Additional Violations\n",
       "CONOCO, INC.                          | 4                    | Phillips 66            | 38                  | 21553                          | 3\n",
       "BP Exploration (Alaska) Inc.          | 1                    | BP                     | 63                  | 2.25e+07                       | 0\n",
       "IRVING OIL CORP                       | 2                    | Irving Oil             | 7                   | 5000                           | 1\n",
       "ULTRAMAR DIAMOND SHAMROCK             | 2                    | Valero Energy          | 47                  | 33751                          | 1\n",
       "CHEVRON U.S.A. PRODUCTION COMPANY     | 1                    | Chevron                | 81                  | 5000                           | 0\n",
       "BP EXPLORATION, INC.                  | 1                    | BP                     | 63                  | 34650                          | 0\n",
       "ARCO ALASKA, INC.                     | 1                    | BP                     | 63                  | 31500                          | 0\n",
       "TPI Petroleum Inc.                    | 1                    | Valero Energy          | 47                  | 1.39e+07                       | 0\n",
       "PARAMOUNT PETROLEUM CORPORATION OF AZ | 1                    | Delek                  | 21                  | 54000                          | 0\n",
       "EXXON MOBIL PIPELINE COMPANY          | 1                    | Exxon Mobil            | 66                  | 8000                           | 0\n",
       "... (992 rows omitted)"
      ]
     },
     "execution_count": 17,
     "metadata": {},
     "output_type": "execute_result"
    }
   ],
   "source": [
    "def get_first_violation(company):\n",
    "    penalty = get_violations(company).column(\"Penalty Amount\").item(0)\n",
    "    return penalty\n",
    "pens = make_array()  #initial penalty amount\n",
    "num = make_array()   #number of violations after first penalty\n",
    "for i in envi.column(\"Company\"):\n",
    "    pens = np.append(pens, get_first_violation(i))\n",
    "    num = (np.append(num, (get_violations(i).num_rows)-1))\n",
    "envi_violations = envi_violations.with_columns(\"First Violation Penalty Amount\", pens, \"Number of Additional Violations\", num)\n",
    "envi_violations"
   ]
  },
  {
   "cell_type": "code",
   "execution_count": 18,
   "id": "aa5221a4-beda-4b0b-9c68-0b4acacbb7ae",
   "metadata": {},
   "outputs": [
    {
     "data": {
      "image/png": "[encoded data removed]",
      "text/plain": [
       "<Figure size 360x360 with 1 Axes>"
      ]
     },
     "metadata": {},
     "output_type": "display_data"
    }
   ],
   "source": [
    "envi_violations.scatter(\"First Violation Penalty Amount\", \"Number of Additional Violations\", fit_line = True)"
   ]
  },
  {
   "cell_type": "raw",
   "id": "3e22cc8d-7dcc-4a14-8a28-a71706c6cd3d",
   "metadata": {},
   "source": [
    "We notiece that we cannot infer a cause/effect relationship or correlation between the first violation penalty amount and the number of addtional violations, due to limitations in the analysis of the data through a simple scatter. "
   ]
  },
  {
   "cell_type": "raw",
   "id": "d97d235e-da57-4fa2-a325-b6c53efa9ceb",
   "metadata": {},
   "source": [
    "Null Hypothesis: The mean penalty amount does not depend on whether the violation was of civil or criminal type, but its rather due to random chance.\n",
    "Alternate Hypothesis: The mean penlaty amount varies consistenly depending on whether the violation is of civil or criminal type."
   ]
  },
  {
   "cell_type": "code",
   "execution_count": 19,
   "id": "d927aa12-549a-4b8b-bb50-8a260edd804b",
   "metadata": {},
   "outputs": [],
   "source": [
    "from datascience import *\n",
    "%matplotlib inline\n",
    "import matplotlib.pyplot as plots\n",
    "plots.style.use('fivethirtyeight')\n",
    "import numpy as np\n",
    "import sys\n",
    "import warnings\n",
    "warnings.simplefilter(action='ignore', category=np.VisibleDeprecationWarning)\n",
    "\n",
    "from ipywidgets import interact, interactive, fixed, interact_manual\n",
    "import ipywidgets as widgets"
   ]
  },
  {
   "cell_type": "code",
   "execution_count": 20,
   "id": "a83ab79d-dc2b-4f6f-a50f-462199a5fc46",
   "metadata": {},
   "outputs": [
    {
     "data": {
      "text/html": [
       "<table border=\"1\" class=\"dataframe\">\n",
       "    <thead>\n",
       "        <tr>\n",
       "            <th>Penalty Amount</th> <th>Civil/Criminal</th>\n",
       "        </tr>\n",
       "    </thead>\n",
       "    <tbody>\n",
       "        <tr>\n",
       "            <td>21553         </td> <td>civil         </td>\n",
       "        </tr>\n",
       "        <tr>\n",
       "            <td>22500000      </td> <td>criminal      </td>\n",
       "        </tr>\n",
       "        <tr>\n",
       "            <td>5000          </td> <td>civil         </td>\n",
       "        </tr>\n",
       "        <tr>\n",
       "            <td>33751         </td> <td>civil         </td>\n",
       "        </tr>\n",
       "    </tbody>\n",
       "</table>\n",
       "<p>... (998 rows omitted)</p>"
      ],
      "text/plain": [
       "<IPython.core.display.HTML object>"
      ]
     },
     "metadata": {},
     "output_type": "display_data"
    },
    {
     "data": {
      "text/html": [
       "<table border=\"1\" class=\"dataframe\">\n",
       "    <thead>\n",
       "        <tr>\n",
       "            <th>Civil/Criminal</th> <th>count</th>\n",
       "        </tr>\n",
       "    </thead>\n",
       "    <tbody>\n",
       "        <tr>\n",
       "            <td>civil             </td> <td>985  </td>\n",
       "        </tr>\n",
       "        <tr>\n",
       "            <td>civil and criminal</td> <td>1    </td>\n",
       "        </tr>\n",
       "        <tr>\n",
       "            <td>criminal          </td> <td>16   </td>\n",
       "        </tr>\n",
       "    </tbody>\n",
       "</table>"
      ],
      "text/plain": [
       "<IPython.core.display.HTML object>"
      ]
     },
     "metadata": {},
     "output_type": "display_data"
    },
    {
     "name": "stderr",
     "output_type": "stream",
     "text": [
      "/opt/tljh/user/lib/python3.9/site-packages/datascience/tables.py:5206: UserWarning: FixedFormatter should only be used together with FixedLocator\n",
      "  axis.set_xticklabels(ticks, rotation='vertical')\n"
     ]
    },
    {
     "data": {
      "image/png": "[encoded data removed]",
      "text/plain": [
       "<Figure size 432x288 with 1 Axes>"
      ]
     },
     "metadata": {},
     "output_type": "display_data"
    }
   ],
   "source": [
    "penalty_and_type = envi.select(\"Penalty Amount\", \"Civil/Criminal\")\n",
    "penalty_and_type.show(4)\n",
    "penalty_and_type.group(\"Civil/Criminal\").show()\n",
    "penalty_and_type.hist(\"Penalty Amount\", group = \"Civil/Criminal\")"
   ]
  },
  {
   "cell_type": "code",
   "execution_count": 21,
   "id": "cfff81d7-63a8-4c33-abb3-2a2ede77dfa5",
   "metadata": {},
   "outputs": [
    {
     "data": {
      "text/html": [
       "<table border=\"1\" class=\"dataframe\">\n",
       "    <thead>\n",
       "        <tr>\n",
       "            <th>Civil/Criminal</th> <th>Penalty Amount mean</th>\n",
       "        </tr>\n",
       "    </thead>\n",
       "    <tbody>\n",
       "        <tr>\n",
       "            <td>civil             </td> <td>2.00527e+07        </td>\n",
       "        </tr>\n",
       "        <tr>\n",
       "            <td>civil and criminal</td> <td>3.5e+07            </td>\n",
       "        </tr>\n",
       "        <tr>\n",
       "            <td>criminal          </td> <td>1.01594e+07        </td>\n",
       "        </tr>\n",
       "    </tbody>\n",
       "</table>"
      ],
      "text/plain": [
       "<IPython.core.display.HTML object>"
      ]
     },
     "metadata": {},
     "output_type": "display_data"
    },
    {
     "data": {
      "text/plain": [
       "-9893324.184771575"
      ]
     },
     "execution_count": 21,
     "metadata": {},
     "output_type": "execute_result"
    }
   ],
   "source": [
    "means_table = penalty_and_type.group(\"Civil/Criminal\", np.mean)\n",
    "means_table.show()\n",
    "means = means_table.column(\"Penalty Amount mean\")\n",
    "observed_difference = means.item(2) - means.item(0)  #will only compare civil vs criminal (civil&criminal not included)\n",
    "observed_difference "
   ]
  },
  {
   "cell_type": "code",
   "execution_count": 22,
   "id": "d66a4f4e-40af-44f9-aebe-484c9c4abede",
   "metadata": {},
   "outputs": [],
   "source": [
    "def abs_difference_of_means(table, group_label, value_label):\n",
    "\n",
    "    # table containing group means\n",
    "    means_table = table.group(group_label, np.mean)\n",
    "    \n",
    "    # array of group means\n",
    "    means = means_table.column(value_label + ' mean')\n",
    "    \n",
    "    #will only compare civil vs criminal (civil&criminal not included)\n",
    "    return abs(means.item(2) - means.item(0))"
   ]
  },
  {
   "cell_type": "code",
   "execution_count": 23,
   "id": "fe62616a-15c8-41a7-8b12-dccdd38dd1b7",
   "metadata": {},
   "outputs": [],
   "source": [
    "def permutation_sample(table, group_column_name):\n",
    "    \"\"\"\n",
    "    Returns: The table with a new \"Shuffled Label\" column containing\n",
    "    the shuffled values of the group column.\n",
    "    \"\"\"\n",
    "    \n",
    "    # array of shuffled labels\n",
    "    shuffled_labels = table.sample(with_replacement=False).column(group_column_name)\n",
    "    \n",
    "    # table of numerical variable and shuffled labels\n",
    "    shuffled_table = table.with_column('Shuffled Label', shuffled_labels)\n",
    "    \n",
    "    return shuffled_table"
   ]
  },
  {
   "cell_type": "code",
   "execution_count": 24,
   "id": "c218a77b-f6e0-4b57-846d-009f61a16918",
   "metadata": {},
   "outputs": [
    {
     "data": {
      "text/html": [
       "<table border=\"1\" class=\"dataframe\">\n",
       "    <thead>\n",
       "        <tr>\n",
       "            <th>Penalty Amount</th> <th>Civil/Criminal</th> <th>Shuffled Label</th>\n",
       "        </tr>\n",
       "    </thead>\n",
       "    <tbody>\n",
       "        <tr>\n",
       "            <td>21553         </td> <td>civil         </td> <td>civil         </td>\n",
       "        </tr>\n",
       "        <tr>\n",
       "            <td>22500000      </td> <td>criminal      </td> <td>civil         </td>\n",
       "        </tr>\n",
       "        <tr>\n",
       "            <td>5000          </td> <td>civil         </td> <td>civil         </td>\n",
       "        </tr>\n",
       "        <tr>\n",
       "            <td>33751         </td> <td>civil         </td> <td>civil         </td>\n",
       "        </tr>\n",
       "    </tbody>\n",
       "</table>\n",
       "<p>... (998 rows omitted)</p>"
      ],
      "text/plain": [
       "<IPython.core.display.HTML object>"
      ]
     },
     "metadata": {},
     "output_type": "display_data"
    },
    {
     "data": {
      "text/plain": [
       "19666707.536675125"
      ]
     },
     "execution_count": 24,
     "metadata": {},
     "output_type": "execute_result"
    }
   ],
   "source": [
    "original_and_shuffled = permutation_sample(penalty_and_type, \"Civil/Criminal\")\n",
    "original_and_shuffled.show(4)\n",
    "one_trial = abs_difference_of_means(original_and_shuffled, 'Shuffled Label', 'Penalty Amount')\n",
    "one_trial"
   ]
  },
  {
   "cell_type": "code",
   "execution_count": 25,
   "id": "4a7da400-2c5e-4bcc-9e6a-7b6d1d19ee82",
   "metadata": {},
   "outputs": [],
   "source": [
    "def simulate_penalty_amounts(num_trials):\n",
    "    \n",
    "    penalty_amount_sim_stats = make_array()\n",
    "    \n",
    "    for i in np.arange(0, num_trials): \n",
    "\n",
    "        one_sample = permutation_sample(penalty_and_type, \"Civil/Criminal\")\n",
    "        statistic_one_sample = abs(abs_difference_of_means(one_sample, \n",
    "                                                           \"Shuffled Label\", \n",
    "                                                           \"Penalty Amount\"))\n",
    "\n",
    "        penalty_amount_sim_stats = np.append(penalty_amount_sim_stats, \n",
    "                                                      statistic_one_sample)\n",
    "        \n",
    "    return penalty_amount_sim_stats"
   ]
  },
  {
   "cell_type": "code",
   "execution_count": 26,
   "id": "f4a62115-fccf-45bd-9f51-4514db2a5f81",
   "metadata": {},
   "outputs": [],
   "source": [
    "simulated_penalty_amount_diffs = simulate_penalty_amounts(1000)"
   ]
  },
  {
   "cell_type": "markdown",
   "id": "9a4cd6d8-0702-4d8c-98d1-8da77b76cb9d",
   "metadata": {},
   "source": [
    "Write text here."
   ]
  },
  {
   "cell_type": "code",
   "execution_count": 27,
   "id": "f66db109-5715-40ec-b802-918a31d9c4df",
   "metadata": {},
   "outputs": [
    {
     "data": {
      "image/png": "[encoded data removed]",
      "text/plain": [
       "<Figure size 432x288 with 1 Axes>"
      ]
     },
     "metadata": {},
     "output_type": "display_data"
    }
   ],
   "source": [
    "results = Table().with_column('abs(Group B Mean - Group A Mean)', simulated_penalty_amount_diffs)\n",
    "results.hist()\n",
    "plots.scatter(observed_difference, 0, color='red', s=60, zorder=3, clip_on=False);"
   ]
  },
  {
   "cell_type": "code",
   "execution_count": 28,
   "id": "04103e31-e630-4233-a938-ff4542e23a1f",
   "metadata": {},
   "outputs": [
    {
     "data": {
      "text/plain": [
       "1.0"
      ]
     },
     "execution_count": 28,
     "metadata": {},
     "output_type": "execute_result"
    }
   ],
   "source": [
    "#p-value\n",
    "sum(simulated_penalty_amount_diffs >= observed_difference) / len(simulated_penalty_amount_diffs)"
   ]
  },
  {
   "cell_type": "raw",
   "id": "48c8300b-affb-4c5d-8e4a-c6003682568f",
   "metadata": {},
   "source": [
    "We can fail to reject the null hypothesis since the p-value is 1.0, which indidcates that the penalty amount does not depend on whether the case is civil/criminal. "
   ]
  },
  {
   "cell_type": "markdown",
   "id": "7a8da1ac-5f14-4c11-a888-20a0295d42bc",
   "metadata": {},
   "source": [
    "As far as ethics go, this data set is pretty ethically sound. All of this information is public knowledge and although it could be argued this information could be viewed as \"slanderous\", the positives do outweigh the negatives. Large companies are choosing to negatively impact the environment and releasing this information to the public brings awareness to the offenses and allows it to be used for environmental research and prevention."
   ]
  },
  {
   "cell_type": "markdown",
   "id": "1f8d364f-5041-4ab1-bc09-eee4925aed25",
   "metadata": {},
   "source": [
    "Originally with this data set, we were seeking to explore if companies were more likely to receive a second offense after the first one. This question could help us answer if fines were effective in preventing environmental offenses and examine the effects of fines on companies' future actions. Unfortunately, with the provided data we were unable to properly explore this question and instead formulated two more: Are fines monetarily increasing as the years go on? And Is the penalty amount impacted by the case being criminal or civil?\n",
    "The penalty amount for each violation was not dependent on whether the offense was criminal or civil based on our permutation test. There were significantly more civil than criminal offenses which was a limitation in our data set and could have prevented a proper comparison. \n",
    "The data yielded that fines and penalty years had a small positive correlation. As discussed in the statistical inference section, these variables appear to be correlated but there is not enough evidence to support causation. There is most likely a third variable at play such as EPA strictness or perhaps an increasing lack of care for the environment on the companies’ side. When investigating this relationship, we ran into a few difficulties. One being we were unable to use the mean as a comparative measure due to significant outliers in the dataset that pulled the average up. Instead we used the median as our “middle” marker to give us a more accurate representation of the data. \n",
    "Going forward, this research can be used to apply the same techniques to different industries (rather than just oil and gas) as well as different protection agencies. We would also like to examine years preceding 2000 to be able to evaluate trends in the data set."
   ]
  }
 ],
 "metadata": {
  "kernelspec": {
   "display_name": "Python 3",
   "language": "python",
   "name": "python3"
  },
  "language_info": {
   "codemirror_mode": {
    "name": "ipython",
    "version": 3
   },
   "file_extension": ".py",
   "mimetype": "text/x-python",
   "name": "python",
   "nbconvert_exporter": "python",
   "pygments_lexer": "ipython3",
   "version": "3.10.9"
  },
  "vscode": {
   "interpreter": {
    "hash": "aee8b7b246df8f9039afb4144a1f6fd8d2ca17a180786b69acc140d282b71a49"
   }
  }
 },
 "nbformat": 4,
 "nbformat_minor": 5
}
